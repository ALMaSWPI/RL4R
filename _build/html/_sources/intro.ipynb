{
 "cells": [
  {
   "cell_type": "markdown",
   "id": "c684d594",
   "metadata": {},
   "source": [
    "# Welcome to RL4R 👋\n",
    "\n",
    "This site explores Reinforcement Learning for Robotics.\n",
    "\n",
    "You'll find:\n",
    "- Live code you can run\n",
    "- Embedded videos\n",
    "- Step-by-step guides\n",
    "\n",
    "## 💻 Try it yourself below!\n"
   ]
  },
  {
   "cell_type": "code",
   "execution_count": 3,
   "id": "f3a8aa0e",
   "metadata": {},
   "outputs": [
    {
     "name": "stdout",
     "output_type": "stream",
     "text": [
      "Hello, this is a live!\n"
     ]
    }
   ],
   "source": [
    "print(\"Hello, this is a live!\")"
   ]
  },
  {
   "cell_type": "code",
   "execution_count": null,
   "id": "f27220e5-8468-41b4-8248-43907b9e7686",
   "metadata": {},
   "outputs": [],
   "source": []
  }
 ],
 "metadata": {
  "kernelspec": {
   "display_name": "Python 3 (ipykernel)",
   "language": "python",
   "name": "python3"
  },
  "language_info": {
   "codemirror_mode": {
    "name": "ipython",
    "version": 3
   },
   "file_extension": ".py",
   "mimetype": "text/x-python",
   "name": "python",
   "nbconvert_exporter": "python",
   "pygments_lexer": "ipython3",
   "version": "3.10.9"
  }
 },
 "nbformat": 4,
 "nbformat_minor": 5
}
