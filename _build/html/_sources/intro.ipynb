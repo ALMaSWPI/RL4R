{
 "cells": [
  {
   "cell_type": "markdown",
   "metadata": {},
   "source": [
    "# Welcome to RL4R 👋\n",
    "\n",
    "This site explores Reinforcement Learning for Robotics.\n",
    "\n",
    "You'll find:\n",
    "- Live Python code cells\n",
    "- Embedded videos and images\n",
    "- Step-by-step RL examples\n",
    "\n",
    "## 💻 Try it yourself below!"
   ]
  },
  {
   "cell_type": "code",
   "execution_count": null,
   "metadata": {},
   "outputs": [],
   "source": [
    "print(\"Hello, this is a live cell!\")"
   ]
  }
 ],
 "metadata": {
  "kernelspec": {
   "display_name": "Python 3",
   "language": "python",
   "name": "python3"
  },
  "language_info": {
   "name": "python",
   "version": "3.10"
  }
 },
 "nbformat": 4,
 "nbformat_minor": 5
}
