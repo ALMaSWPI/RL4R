{
 "cells": [
  {
   "cell_type": "markdown",
   "id": "76c7d075",
   "metadata": {},
   "source": [
    "# Welcome to RL4R 👋\n",
    "\n",
    "This site explores Reinforcement Learning for Robotics.\n",
    "\n",
    "You'll find:\n",
    "- Live Python code cells\n",
    "- Embedded videos and images\n",
    "- Step-by-step RL examples\n",
    "\n",
    "## 💻 Try it yourself below!"
   ]
  },
  {
   "cell_type": "code",
   "execution_count": 1,
   "id": "23076822",
   "metadata": {},
   "outputs": [
    {
     "name": "stdout",
     "output_type": "stream",
     "text": [
      "Hello, this is a live cell!\n"
     ]
    }
   ],
   "source": [
    "print(\"Hello, this is a live cell!\")"
   ]
  }
 ],
 "metadata": {
  "kernelspec": {
   "display_name": "Python 3",
   "language": "python",
   "name": "python3"
  },
  "language_info": {
   "codemirror_mode": {
    "name": "ipython",
    "version": 3
   },
   "file_extension": ".py",
   "mimetype": "text/x-python",
   "name": "python",
   "nbconvert_exporter": "python",
   "pygments_lexer": "ipython3",
   "version": "3.10.9"
  }
 },
 "nbformat": 4,
 "nbformat_minor": 5
}