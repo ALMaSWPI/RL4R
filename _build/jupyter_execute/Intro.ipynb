{
 "cells": [
  {
   "cell_type": "markdown",
   "id": "00f37e29",
   "metadata": {},
   "source": [
    "# Welcome to RL4R 👋\n",
    "\n",
    "This site is designed for the course Reinforcement Learning for Robotics\n",
    "\n",
    "You'll find:\n",
    "- Live Python code cells\n",
    "- Embedded videos and images\n",
    "- Step-by-step RL examples\n",
    "\n",
    "## 💻 Try it yourself below!\n",
    "Click on the rocket icon above and select Live Code so you can change this line"
   ]
  },
  {
   "cell_type": "code",
   "execution_count": 1,
   "id": "d95cbbc8",
   "metadata": {},
   "outputs": [
    {
     "name": "stdout",
     "output_type": "stream",
     "text": [
      "Hello, this is a live cell!\n"
     ]
    }
   ],
   "source": [
    "print(\"Hello, this is a live cell!\")"
   ]
  },
  {
   "cell_type": "markdown",
   "id": "fb953454-9019-4a9b-8acd-7119d3acb734",
   "metadata": {},
   "source": [
    "Now, let's see a code for 10-arm bandit problem with some explanations:"
   ]
  },
  {
   "cell_type": "code",
   "execution_count": null,
   "id": "b77d28ad-d1c6-45d5-acbc-aab9ad5b06c5",
   "metadata": {},
   "outputs": [],
   "source": []
  }
 ],
 "metadata": {
  "kernelspec": {
   "display_name": "Python 3 (ipykernel)",
   "language": "python",
   "name": "python3"
  },
  "language_info": {
   "codemirror_mode": {
    "name": "ipython",
    "version": 3
   },
   "file_extension": ".py",
   "mimetype": "text/x-python",
   "name": "python",
   "nbconvert_exporter": "python",
   "pygments_lexer": "ipython3",
   "version": "3.10.9"
  }
 },
 "nbformat": 4,
 "nbformat_minor": 5
}